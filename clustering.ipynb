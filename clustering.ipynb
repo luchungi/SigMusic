{
 "cells": [
  {
   "cell_type": "code",
   "execution_count": 3,
   "metadata": {},
   "outputs": [
    {
     "name": "stdout",
     "output_type": "stream",
     "text": [
      "The autoreload extension is already loaded. To reload it, use:\n",
      "  %reload_ext autoreload\n"
     ]
    }
   ],
   "source": [
    "%load_ext autoreload\n",
    "%autoreload 2\n",
    "import pickle\n",
    "import iisignature as iisig\n",
    "import numpy as np\n",
    "import pandas as pd\n",
    "import matplotlib.pyplot as plt\n",
    "from torch.utils.data import DataLoader\n",
    "from utils.midi import *\n",
    "from utils.data import *"
   ]
  },
  {
   "cell_type": "code",
   "execution_count": 4,
   "metadata": {},
   "outputs": [],
   "source": [
    "with open('./data/dataframes/min_note_0_min_gap_0/dfs.pkl', 'rb') as f:\n",
    "    dfs = pickle.load(f)"
   ]
  },
  {
   "cell_type": "code",
   "execution_count": null,
   "metadata": {},
   "outputs": [],
   "source": [
    "note_dur_dfs = note_duration_transform(dfs, 0.1)"
   ]
  },
  {
   "cell_type": "code",
   "execution_count": 5,
   "metadata": {},
   "outputs": [
    {
     "ename": "RuntimeError",
     "evalue": "data must be (convertable to) a numpy array",
     "output_type": "error",
     "traceback": [
      "\u001b[0;31m---------------------------------------------------------------------------\u001b[0m",
      "\u001b[0;31mRuntimeError\u001b[0m                              Traceback (most recent call last)",
      "\u001b[0;32m/tmp/ipykernel_2518/864889321.py\u001b[0m in \u001b[0;36m<cell line: 0>\u001b[0;34m()\u001b[0m\n\u001b[0;32m----> 1\u001b[0;31m \u001b[0miisig\u001b[0m\u001b[0;34m.\u001b[0m\u001b[0msig\u001b[0m\u001b[0;34m(\u001b[0m\u001b[0mdfs\u001b[0m\u001b[0;34m[\u001b[0m\u001b[0;36m0\u001b[0m\u001b[0;34m]\u001b[0m\u001b[0;34m.\u001b[0m\u001b[0mvalues\u001b[0m\u001b[0;34m,\u001b[0m \u001b[0;36m5\u001b[0m\u001b[0;34m)\u001b[0m\u001b[0;34m\u001b[0m\u001b[0;34m\u001b[0m\u001b[0m\n\u001b[0m",
      "\u001b[0;31mRuntimeError\u001b[0m: data must be (convertable to) a numpy array"
     ]
    }
   ],
   "source": [
    "iisig.sig(dfs[0].values, 5)"
   ]
  },
  {
   "cell_type": "code",
   "execution_count": 6,
   "metadata": {},
   "outputs": [
    {
     "data": {
      "text/plain": [
       "array([[0.0, 0.49180300000000005, 75, 80, 'melody'],\n",
       "       [0.49180300000000005, 0.9836060000000001, 73, 80, 'melody'],\n",
       "       [0.9836060000000001, 1.4754090000000002, 71, 80, 'melody'],\n",
       "       [1.4754090000000002, 1.9672120000000002, 68, 80, 'melody'],\n",
       "       [1.9672120000000002, 2.4590150000000004, 71, 80, 'melody'],\n",
       "       [2.4590150000000004, 2.9508180000000004, 78, 80, 'melody'],\n",
       "       [2.9508180000000004, 3.4426210000000004, 75, 80, 'melody'],\n",
       "       [3.4426210000000004, 3.9344240000000004, 73, 80, 'melody'],\n",
       "       [3.9344240000000004, 4.426227000000001, 75, 80, 'melody'],\n",
       "       [4.426227000000001, 4.918030000000001, 73, 80, 'melody'],\n",
       "       [4.918030000000001, 5.409833000000001, 71, 80, 'melody'],\n",
       "       [5.409833000000001, 5.901636000000001, 68, 80, 'melody'],\n",
       "       [5.901636000000001, 6.393439000000001, 71, 80, 'melody'],\n",
       "       [6.393439000000001, 6.885242000000001, 78, 80, 'melody'],\n",
       "       [6.885242000000001, 7.377045000000001, 75, 80, 'melody'],\n",
       "       [7.377045000000001, 7.868848000000001, 73, 80, 'melody'],\n",
       "       [7.868848000000001, 8.360651, 75, 80, 'melody'],\n",
       "       [8.360651, 8.852454000000002, 73, 80, 'melody'],\n",
       "       [8.852454000000002, 9.344257, 71, 80, 'melody'],\n",
       "       [9.344257, 9.836060000000002, 68, 80, 'melody'],\n",
       "       [9.836060000000002, 10.327863, 71, 80, 'melody'],\n",
       "       [10.327863, 10.819666000000002, 78, 80, 'melody'],\n",
       "       [10.819666000000002, 11.311469, 75, 80, 'melody'],\n",
       "       [11.311469, 11.803272000000002, 73, 80, 'melody'],\n",
       "       [11.803272000000002, 12.295075000000002, 75, 80, 'melody'],\n",
       "       [12.295075000000002, 12.786878000000002, 73, 80, 'melody'],\n",
       "       [12.786878000000002, 13.278681000000002, 71, 80, 'melody'],\n",
       "       [13.278681000000002, 13.770484000000002, 68, 80, 'melody'],\n",
       "       [13.770484000000002, 14.262287000000002, 71, 80, 'melody'],\n",
       "       [14.262287000000002, 14.754090000000001, 78, 80, 'melody'],\n",
       "       [14.754090000000001, 15.245893000000002, 75, 80, 'melody'],\n",
       "       [15.245893000000002, 15.737696000000001, 73, 80, 'melody'],\n",
       "       [15.737696000000001, 16.229499, 75, 80, 'melody'],\n",
       "       [16.229499, 16.721302, 73, 80, 'melody'],\n",
       "       [16.721302, 17.213105000000002, 71, 80, 'melody'],\n",
       "       [17.213105000000002, 17.704908000000003, 68, 80, 'melody'],\n",
       "       [17.704908000000003, 18.196711000000004, 71, 80, 'melody'],\n",
       "       [18.196711000000004, 18.688514, 78, 80, 'melody'],\n",
       "       [18.688514, 19.180317000000002, 75, 80, 'melody'],\n",
       "       [19.180317000000002, 19.672120000000003, 73, 80, 'melody'],\n",
       "       [19.672120000000003, 20.163923000000004, 75, 80, 'melody'],\n",
       "       [20.163923000000004, 20.655726, 73, 80, 'melody'],\n",
       "       [20.655726, 21.147529000000002, 71, 80, 'melody'],\n",
       "       [21.147529000000002, 21.639332000000003, 68, 80, 'melody'],\n",
       "       [21.639332000000003, 22.131135000000004, 71, 80, 'melody'],\n",
       "       [22.131135000000004, 22.622938, 78, 80, 'melody'],\n",
       "       [22.622938, 23.114741000000002, 75, 80, 'melody'],\n",
       "       [23.114741000000002, 23.606544000000003, 73, 80, 'melody'],\n",
       "       [23.606544000000003, 24.098347000000004, 75, 80, 'melody'],\n",
       "       [24.098347000000004, 24.590150000000005, 73, 80, 'melody'],\n",
       "       [24.590150000000005, 25.081953000000002, 71, 80, 'melody'],\n",
       "       [25.081953000000002, 25.573756000000003, 68, 80, 'melody'],\n",
       "       [25.573756000000003, 26.065559000000004, 71, 80, 'melody'],\n",
       "       [26.065559000000004, 26.557362000000005, 78, 80, 'melody'],\n",
       "       [26.557362000000005, 27.049165000000002, 75, 80, 'melody'],\n",
       "       [27.049165000000002, 27.540968000000003, 73, 80, 'melody'],\n",
       "       [27.540968000000003, 28.032771000000004, 75, 80, 'melody'],\n",
       "       [28.032771000000004, 28.524574000000005, 73, 80, 'melody'],\n",
       "       [28.524574000000005, 29.016377000000006, 71, 80, 'melody'],\n",
       "       [29.016377000000006, 29.508180000000003, 68, 80, 'melody'],\n",
       "       [29.508180000000003, 29.999983000000004, 71, 80, 'melody'],\n",
       "       [29.999983000000004, 30.491786000000005, 78, 80, 'melody'],\n",
       "       [30.491786000000005, 30.983589000000006, 75, 80, 'melody'],\n",
       "       [30.983589000000006, 31.475392000000003, 73, 80, 'melody']],\n",
       "      dtype=object)"
      ]
     },
     "execution_count": 6,
     "metadata": {},
     "output_type": "execute_result"
    }
   ],
   "source": [
    "dfs[0].values"
   ]
  },
  {
   "cell_type": "code",
   "execution_count": null,
   "metadata": {},
   "outputs": [],
   "source": [
    "signatures = []\n",
    "for df in dfs:\n",
    "    signatures.append(iisig.sig(df.values, 5))"
   ]
  }
 ],
 "metadata": {
  "kernelspec": {
   "display_name": "music",
   "language": "python",
   "name": "python3"
  },
  "language_info": {
   "codemirror_mode": {
    "name": "ipython",
    "version": 3
   },
   "file_extension": ".py",
   "mimetype": "text/x-python",
   "name": "python",
   "nbconvert_exporter": "python",
   "pygments_lexer": "ipython3",
   "version": "3.11.7"
  }
 },
 "nbformat": 4,
 "nbformat_minor": 2
}
