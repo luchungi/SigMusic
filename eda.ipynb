{
 "cells": [
  {
   "cell_type": "code",
   "execution_count": null,
   "metadata": {},
   "outputs": [],
   "source": [
    "import numpy as np\n",
    "import pandas as pd\n",
    "import matplotlib.pyplot as plt\n",
    "from torch.utils.data import DataLoader\n",
    "import IPython.display as ipd\n",
    "\n",
    "from utils.midi import *\n",
    "from utils.data import *"
   ]
  },
  {
   "cell_type": "code",
   "execution_count": null,
   "metadata": {},
   "outputs": [],
   "source": [
    "path = './data/midi/'\n",
    "dfs = get_dfs_from_midi(path, min_notes=50)"
   ]
  },
  {
   "cell_type": "code",
   "execution_count": null,
   "metadata": {},
   "outputs": [],
   "source": [
    "lens = [len(df) for df in dfs]\n",
    "print('Number of songs:', len(dfs))\n",
    "print('Max length:', max(lens))\n",
    "print('Min length:', min(lens))\n",
    "print('Mean length:', np.mean(lens))\n",
    "sorted_lens = sorted(lens)\n",
    "plt.bar(range(len(sorted_lens)), sorted_lens);"
   ]
  },
  {
   "cell_type": "code",
   "execution_count": null,
   "metadata": {},
   "outputs": [],
   "source": [
    "# Duration of melodies\n",
    "durations = []\n",
    "for df in dfs:\n",
    "    durations.append(df['End'].max())\n",
    "plt.hist(durations, bins=100);\n",
    "min(durations), max(durations)"
   ]
  },
  {
   "cell_type": "code",
   "execution_count": null,
   "metadata": {},
   "outputs": [],
   "source": [
    "# plot pitch range\n",
    "pitch_ranges = []\n",
    "pitch_mins = []\n",
    "pitch_maxs = []\n",
    "for df in dfs:\n",
    "    pitch_mins.append(df['Pitch'].min())\n",
    "    pitch_maxs.append(df['Pitch'].max())\n",
    "    pitch_range = df['Pitch'].max() - df['Pitch'].min()\n",
    "    pitch_ranges.append(pitch_range)\n",
    "pitch_mins = np.array(pitch_mins)\n",
    "pitch_maxs = np.array(pitch_maxs)\n",
    "pitch_ranges = np.array(pitch_ranges)\n",
    "plt.hist(pitch_ranges, bins=128, range=(0, 128));"
   ]
  },
  {
   "cell_type": "code",
   "execution_count": null,
   "metadata": {},
   "outputs": [],
   "source": [
    "fig, ax = plt.subplots(figsize=(20, 5))\n",
    "ax.bar(range(len(pitch_mins)), height=pitch_maxs-pitch_mins, bottom=pitch_mins, width=1.0);"
   ]
  },
  {
   "cell_type": "code",
   "execution_count": null,
   "metadata": {},
   "outputs": [],
   "source": [
    "# measure gap between start of next note and end of previous note\n",
    "neg_gaps = []\n",
    "pos_gaps = []\n",
    "for df in dfs:\n",
    "    gap = df['Start'].iloc[1:].values - df['End'].iloc[:-1].values\n",
    "    if gap.min() < 0:\n",
    "        neg_gaps.append(df)\n",
    "    if gap.max() > 0:\n",
    "        pos_gaps.append(df)\n",
    "print(len(neg_gaps), len(pos_gaps))"
   ]
  },
  {
   "cell_type": "code",
   "execution_count": null,
   "metadata": {},
   "outputs": [],
   "source": [
    "pd.set_option('display.max_rows', 500)\n",
    "gaps[0]"
   ]
  },
  {
   "cell_type": "code",
   "execution_count": null,
   "metadata": {},
   "outputs": [],
   "source": [
    "Fs = 44100\n",
    "midi_data = df_to_midi(gaps[0])\n",
    "audio_data = midi_data.synthesize(fs=Fs)\n",
    "ipd.Audio(audio_data, rate=Fs)"
   ]
  },
  {
   "cell_type": "code",
   "execution_count": null,
   "metadata": {},
   "outputs": [],
   "source": [
    "dataset = MIDIDataset(dfs, sample_len=50, cols=[0,1,2], scale=1., stride=10)\n",
    "dataloader = DataLoader(dataset, batch_size=64, shuffle=True, num_workers=0, drop_last=True)"
   ]
  },
  {
   "cell_type": "code",
   "execution_count": null,
   "metadata": {},
   "outputs": [],
   "source": [
    "len(dataloader)"
   ]
  },
  {
   "cell_type": "code",
   "execution_count": null,
   "metadata": {},
   "outputs": [],
   "source": [
    "is_get_data = 1\n",
    "is_get_matrix = 0\n",
    "if is_get_data == 1:\n",
    "    a = './data/XML/b/beatles/hey-jude/chorus.xml'\n",
    "    list_file = get_listfile(a)\n",
    "    list_ = check_chord_type(list_file)\n",
    "    list_of_four_beat = beats_(list_)\n",
    "    c_key_list,d_key_list,e_key_list,f_key_list,g_key_list,a_key_list,b_key_list = get_key(list_of_four_beat)\n",
    "    note_list_all,dur_list_all = transform_note(c_key_list,d_key_list,e_key_list,f_key_list,g_key_list,a_key_list,b_key_list)\n",
    "    in_range,note_list_all_c,dur_list_all_c = check_melody_range(note_list_all,dur_list_all)\n",
    "    print('total normal chord: {}'.format(len(list_)))\n",
    "    print('total in four: {}'.format(len(list_of_four_beat)))\n",
    "    print('melody in range: {}'.format(len(note_list_all)))\n",
    "\n",
    "if is_get_matrix == 1:\n",
    "    note_list_all_c = np.load('note_list_all_c.npy')\n",
    "    dur_list_all_c = np.load('dur_list_all_c.npy')\n",
    "\n",
    "    data_x, prev_x,zero_counter = build_matrix(note_list_all_c,dur_list_all_c)\n",
    "    np.save('data_x.npy',data_x)\n",
    "    np.save('prev_x.npy',prev_x)\n",
    "\n",
    "    print('final tab num: {}'.format(len(note_list_all_c)))\n",
    "    print('songs not long enough: {}'.format(zero_counter))\n",
    "    print('sample shape: {}, prev sample shape: {}'.format(data_x.shape, prev_x.shape))"
   ]
  },
  {
   "cell_type": "code",
   "execution_count": null,
   "metadata": {},
   "outputs": [],
   "source": [
    "path = './data/XML/b/beatles/hey-jude/chorus.xml'\n",
    "check_chord_type([path])"
   ]
  },
  {
   "cell_type": "code",
   "execution_count": null,
   "metadata": {},
   "outputs": [],
   "source": [
    "chorus_file = ET.parse(path)\n",
    "root = chorus_file.getroot()\n",
    "check_list = []\n",
    "counter = 0\n",
    "None_counter = 0\n",
    "for item in root.iter(tag='fb'):\n",
    "    check_list.append(item.text)\n",
    "    counter +=1\n",
    "    if item.text is None:\n",
    "        None_counter +=1\n",
    "for item in root.iter(tag='borrowed'):\n",
    "    check_list.append(item.text)\n",
    "    counter +=1\n",
    "    if item.text is None:\n",
    "        None_counter +=1\n",
    "print(check_list)\n",
    "print(counter)\n",
    "print(None_counter)"
   ]
  },
  {
   "cell_type": "code",
   "execution_count": null,
   "metadata": {},
   "outputs": [],
   "source": [
    "chorus_file = ET.parse(path)\n",
    "root = chorus_file.getroot()"
   ]
  },
  {
   "cell_type": "code",
   "execution_count": null,
   "metadata": {},
   "outputs": [],
   "source": [
    "for item in root.iter(tag='note'):\n",
    "    note = item[4].text\n",
    "    dur = item[3].text\n",
    "    octave = item[5].text\n",
    "    print(note,dur,octave)"
   ]
  }
 ],
 "metadata": {
  "kernelspec": {
   "display_name": "music",
   "language": "python",
   "name": "python3"
  },
  "language_info": {
   "codemirror_mode": {
    "name": "ipython",
    "version": 3
   },
   "file_extension": ".py",
   "mimetype": "text/x-python",
   "name": "python",
   "nbconvert_exporter": "python",
   "pygments_lexer": "ipython3",
   "version": "3.11.7"
  }
 },
 "nbformat": 4,
 "nbformat_minor": 2
}
