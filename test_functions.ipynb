{
 "cells": [
  {
   "cell_type": "code",
   "execution_count": null,
   "metadata": {},
   "outputs": [],
   "source": [
    "%load_ext autoreload\n",
    "%autoreload 2\n",
    "import pickle\n",
    "import IPython.display as ipd\n",
    "import numpy as np\n",
    "import pandas as pd\n",
    "import matplotlib.pyplot as plt\n",
    "from torch.utils.data import DataLoader\n",
    "from utils.data import *"
   ]
  },
  {
   "cell_type": "code",
   "execution_count": null,
   "metadata": {},
   "outputs": [],
   "source": [
    "key = 0\n",
    "path = f'./data/single_key/{key}/'\n",
    "dfs = get_dfs_from_midi(path, min_notes=30, min_gap=0.)"
   ]
  },
  {
   "cell_type": "code",
   "execution_count": null,
   "metadata": {},
   "outputs": [],
   "source": [
    "gap_dur_dpitch_dfs = gap_duration_deltapitch_transform(dfs)"
   ]
  },
  {
   "cell_type": "code",
   "execution_count": null,
   "metadata": {},
   "outputs": [
    {
     "data": {
      "text/plain": [
       "(41394, 1294)"
      ]
     },
     "metadata": {},
     "output_type": "display_data"
    }
   ],
   "source": [
    "dataset = GapDurationDeltaPitchDataset(gap_dur_dpitch_dfs, 30)\n",
    "dataloader = DataLoader(dataset, batch_size=32, shuffle=False)\n",
    "len(dataset), len(dataloader)"
   ]
  },
  {
   "cell_type": "code",
   "execution_count": null,
   "metadata": {},
   "outputs": [
    {
     "name": "stdout",
     "output_type": "stream",
     "text": [
      "torch.Size([32, 30, 3])\n",
      "torch.Size([32, 60])\n",
      "torch.Size([32, 60, 2])\n"
     ]
    }
   ],
   "source": [
    "for x in dataloader:\n",
    "    print(x.shape)\n",
    "    y = batch_rectilinear_with_gap_transform(x)\n",
    "    print(y.shape)\n",
    "    break"
   ]
  },
  {
   "cell_type": "code",
   "execution_count": null,
   "metadata": {},
   "outputs": [
    {
     "data": {
      "text/plain": [
       "array([0.483871  , 0.483871  , 0.36290325, 0.36290325, 0.967742  ,\n",
       "       0.2419355 , 0.36290325, 0.36290325, 0.483871  , 1.6935485 ,\n",
       "       0.483871  , 0.483871  , 0.2419355 , 0.12096775, 0.36290325,\n",
       "       0.483871  , 0.7258065 , 0.967742  , 0.967742  , 0.483871  ,\n",
       "       0.483871  , 0.36290325, 0.36290325, 0.7258065 , 0.2419355 ,\n",
       "       0.2419355 , 0.12096775, 0.12096775, 0.483871  , 0.36290325,\n",
       "       0.36290325, 0.36290325, 0.36290325, 0.2419355 , 0.36290325,\n",
       "       0.36290325, 1.2096775 , 0.36290325, 0.36290325, 0.2419355 ,\n",
       "       0.483871  , 1.451613  , 0.967742  , 0.36290325, 0.36290325,\n",
       "       2.1774195 , 0.967742  , 0.12096775, 0.12096775, 0.483871  ,\n",
       "       0.483871  , 1.6935485 , 0.2419355 , 0.12096775, 0.12096775,\n",
       "       0.7258065 , 0.7258065 , 0.7258065 , 0.7258065 , 0.483871  ])"
      ]
     },
     "metadata": {},
     "output_type": "display_data"
    }
   ],
   "source": [
    "gap_dur_dpitch_dfs[0]['Duration'].values"
   ]
  },
  {
   "cell_type": "code",
   "execution_count": null,
   "metadata": {},
   "outputs": [
    {
     "data": {
      "text/plain": [
       "array([ 0.483871  ,  0.967742  ,  1.33064525,  1.6935485 ,  2.6612905 ,\n",
       "        2.903226  ,  3.26612925,  3.6290325 ,  4.1129035 ,  5.806452  ,\n",
       "        6.290323  ,  6.774194  ,  7.0161295 ,  7.13709725,  7.5000005 ,\n",
       "        7.9838715 ,  8.709678  ,  9.67742   , 10.645162  , 11.129033  ,\n",
       "       11.612904  , 11.97580725, 12.3387105 , 13.3064525 , 13.548388  ,\n",
       "       13.7903235 , 13.91129125, 14.032259  , 14.51613   , 14.87903325,\n",
       "       15.2419365 , 15.84677525, 16.2096785 , 16.451614  , 16.81451725,\n",
       "       17.1774205 , 18.387098  , 18.75000125, 19.1129045 , 19.35484   ,\n",
       "       19.838711  , 21.290324  , 22.258066  , 22.62096925, 22.9838725 ,\n",
       "       25.161292  , 26.129034  , 26.73387275, 26.8548405 , 27.580647  ,\n",
       "       28.064518  , 30.000002  , 30.483873  , 30.60484075, 30.7258085 ,\n",
       "       31.6935505 , 32.419357  , 33.1451635 , 33.87097   , 34.354841  ])"
      ]
     },
     "metadata": {},
     "output_type": "display_data"
    }
   ],
   "source": [
    "dfs[0]['End'].values"
   ]
  },
  {
   "cell_type": "code",
   "execution_count": null,
   "metadata": {},
   "outputs": [
    {
     "data": {
      "text/plain": [
       "array([ 0.483871  ,  0.967742  ,  1.33064525,  1.6935485 ,  2.6612905 ,\n",
       "        2.903226  ,  3.26612925,  3.6290325 ,  4.1129035 ,  5.806452  ,\n",
       "        6.290323  ,  6.774194  ,  7.0161295 ,  7.13709725,  7.5000005 ,\n",
       "        7.9838715 ,  8.709678  ,  9.67742   , 10.645162  , 11.129033  ,\n",
       "       11.612904  , 11.97580725, 12.3387105 , 13.3064525 , 13.548388  ,\n",
       "       13.7903235 , 13.91129125, 14.032259  , 14.51613   , 14.87903325,\n",
       "       15.2419365 , 15.84677525, 16.2096785 , 16.451614  , 16.81451725,\n",
       "       17.1774205 , 18.387098  , 18.75000125, 19.1129045 , 19.35484   ,\n",
       "       19.838711  , 21.290324  , 22.258066  , 22.62096925, 22.9838725 ,\n",
       "       25.161292  , 26.129034  , 26.73387275, 26.8548405 , 27.580647  ,\n",
       "       28.064518  , 30.000002  , 30.483873  , 30.60484075, 30.7258085 ,\n",
       "       31.6935505 , 32.419357  , 33.1451635 , 33.87097   , 34.354841  ])"
      ]
     },
     "metadata": {},
     "output_type": "display_data"
    }
   ],
   "source": [
    "end = gap_dur_dpitch_dfs[0]['Duration'].cumsum().values + gap_dur_dpitch_dfs[0]['Gap'].cumsum().values\n",
    "end"
   ]
  },
  {
   "cell_type": "code",
   "execution_count": null,
   "metadata": {},
   "outputs": [
    {
     "data": {
      "text/plain": [
       "array([0.00000000e+00, 0.00000000e+00, 0.00000000e+00, 0.00000000e+00,\n",
       "       0.00000000e+00, 0.00000000e+00, 0.00000000e+00, 0.00000000e+00,\n",
       "       0.00000000e+00, 0.00000000e+00, 0.00000000e+00, 0.00000000e+00,\n",
       "       0.00000000e+00, 0.00000000e+00, 0.00000000e+00, 0.00000000e+00,\n",
       "       0.00000000e+00, 0.00000000e+00, 0.00000000e+00, 0.00000000e+00,\n",
       "       0.00000000e+00, 0.00000000e+00, 0.00000000e+00, 0.00000000e+00,\n",
       "       0.00000000e+00, 0.00000000e+00, 0.00000000e+00, 0.00000000e+00,\n",
       "       0.00000000e+00, 0.00000000e+00, 0.00000000e+00, 0.00000000e+00,\n",
       "       0.00000000e+00, 0.00000000e+00, 0.00000000e+00, 3.55271368e-15,\n",
       "       0.00000000e+00, 3.55271368e-15, 3.55271368e-15, 3.55271368e-15,\n",
       "       3.55271368e-15, 3.55271368e-15, 0.00000000e+00, 0.00000000e+00,\n",
       "       3.55271368e-15, 3.55271368e-15, 3.55271368e-15, 3.55271368e-15,\n",
       "       0.00000000e+00, 3.55271368e-15, 0.00000000e+00, 0.00000000e+00,\n",
       "       0.00000000e+00, 0.00000000e+00, 3.55271368e-15, 0.00000000e+00,\n",
       "       0.00000000e+00, 0.00000000e+00, 0.00000000e+00, 0.00000000e+00])"
      ]
     },
     "metadata": {},
     "output_type": "display_data"
    }
   ],
   "source": [
    "dfs[0]['End'].values - end"
   ]
  },
  {
   "cell_type": "code",
   "execution_count": null,
   "metadata": {},
   "outputs": [
    {
     "data": {
      "text/plain": [
       "array([ 0.        ,  0.483871  ,  0.967742  ,  1.33064525,  1.6935485 ,\n",
       "        2.6612905 ,  2.903226  ,  3.26612925,  3.6290325 ,  4.1129035 ,\n",
       "        5.806452  ,  6.290323  ,  6.774194  ,  7.0161295 ,  7.13709725,\n",
       "        7.5000005 ,  7.9838715 ,  8.709678  ,  9.67742   , 10.645162  ,\n",
       "       11.129033  , 11.612904  , 11.97580725, 12.580646  , 13.3064525 ,\n",
       "       13.548388  , 13.7903235 , 13.91129125, 14.032259  , 14.51613   ,\n",
       "       14.87903325, 15.483872  , 15.84677525, 16.2096785 , 16.451614  ,\n",
       "       16.81451725, 17.1774205 , 18.387098  , 18.75000125, 19.1129045 ,\n",
       "       19.35484   , 19.838711  , 21.290324  , 22.258066  , 22.62096925,\n",
       "       22.9838725 , 25.161292  , 26.612905  , 26.73387275, 27.096776  ,\n",
       "       27.580647  , 28.3064535 , 30.2419375 , 30.483873  , 30.60484075,\n",
       "       30.967744  , 31.6935505 , 32.419357  , 33.1451635 , 33.87097   ])"
      ]
     },
     "metadata": {},
     "output_type": "display_data"
    }
   ],
   "source": [
    "dfs[0]['Start'].values"
   ]
  },
  {
   "cell_type": "code",
   "execution_count": null,
   "metadata": {},
   "outputs": [
    {
     "data": {
      "text/plain": [
       "array([ 0.        ,  0.483871  ,  0.967742  ,  1.33064525,  1.6935485 ,\n",
       "        2.6612905 ,  2.903226  ,  3.26612925,  3.6290325 ,  4.1129035 ,\n",
       "        5.806452  ,  6.290323  ,  6.774194  ,  7.0161295 ,  7.13709725,\n",
       "        7.5000005 ,  7.9838715 ,  8.709678  ,  9.67742   , 10.645162  ,\n",
       "       11.129033  , 11.612904  , 11.97580725, 12.580646  , 13.3064525 ,\n",
       "       13.548388  , 13.7903235 , 13.91129125, 14.032259  , 14.51613   ,\n",
       "       14.87903325, 15.483872  , 15.84677525, 16.2096785 , 16.451614  ,\n",
       "       16.81451725, 17.1774205 , 18.387098  , 18.75000125, 19.1129045 ,\n",
       "       19.35484   , 19.838711  , 21.290324  , 22.258066  , 22.62096925,\n",
       "       22.9838725 , 25.161292  , 26.612905  , 26.73387275, 27.096776  ,\n",
       "       27.580647  , 28.3064535 , 30.2419375 , 30.483873  , 30.60484075,\n",
       "       30.967744  , 31.6935505 , 32.419357  , 33.1451635 , 33.87097   ])"
      ]
     },
     "metadata": {},
     "output_type": "display_data"
    }
   ],
   "source": [
    "start = np.zeros_like(end)\n",
    "start[1:] = gap_dur_dpitch_dfs[0]['Duration'].cumsum().values[:-1]\n",
    "start = start + gap_dur_dpitch_dfs[0]['Gap'].cumsum().values\n",
    "start"
   ]
  },
  {
   "cell_type": "code",
   "execution_count": null,
   "metadata": {},
   "outputs": [
    {
     "data": {
      "text/plain": [
       "array([0.00000000e+00, 0.00000000e+00, 0.00000000e+00, 0.00000000e+00,\n",
       "       0.00000000e+00, 0.00000000e+00, 0.00000000e+00, 0.00000000e+00,\n",
       "       0.00000000e+00, 0.00000000e+00, 0.00000000e+00, 0.00000000e+00,\n",
       "       0.00000000e+00, 0.00000000e+00, 0.00000000e+00, 0.00000000e+00,\n",
       "       0.00000000e+00, 0.00000000e+00, 0.00000000e+00, 0.00000000e+00,\n",
       "       0.00000000e+00, 0.00000000e+00, 0.00000000e+00, 0.00000000e+00,\n",
       "       0.00000000e+00, 0.00000000e+00, 0.00000000e+00, 0.00000000e+00,\n",
       "       0.00000000e+00, 0.00000000e+00, 0.00000000e+00, 0.00000000e+00,\n",
       "       0.00000000e+00, 0.00000000e+00, 0.00000000e+00, 0.00000000e+00,\n",
       "       3.55271368e-15, 0.00000000e+00, 3.55271368e-15, 3.55271368e-15,\n",
       "       3.55271368e-15, 3.55271368e-15, 3.55271368e-15, 0.00000000e+00,\n",
       "       0.00000000e+00, 3.55271368e-15, 3.55271368e-15, 3.55271368e-15,\n",
       "       3.55271368e-15, 3.55271368e-15, 3.55271368e-15, 3.55271368e-15,\n",
       "       3.55271368e-15, 0.00000000e+00, 0.00000000e+00, 0.00000000e+00,\n",
       "       0.00000000e+00, 0.00000000e+00, 0.00000000e+00, 0.00000000e+00])"
      ]
     },
     "metadata": {},
     "output_type": "display_data"
    }
   ],
   "source": [
    "dfs[0]['Start'].values - start"
   ]
  },
  {
   "cell_type": "code",
   "execution_count": null,
   "metadata": {},
   "outputs": [
    {
     "data": {
      "text/plain": [
       "[<matplotlib.lines.Line2D at 0x7fd262fc69d0>]"
      ]
     },
     "metadata": {},
     "output_type": "display_data"
    },
    {
     "data": {
      "image/png": "[encoded data removed]",
      "text/plain": [
       "<Figure size 640x480 with 1 Axes>"
      ]
     },
     "metadata": {},
     "output_type": "display_data"
    }
   ],
   "source": [
    "plt.plot(x[0,:,0], x[0,:,1])"
   ]
  },
  {
   "cell_type": "code",
   "execution_count": null,
   "metadata": {},
   "outputs": [
    {
     "data": {
      "text/plain": [
       "tensor([[0., 1., 0., 1., 0., 1., 0., 1.],\n",
       "        [0., 1., 0., 1., 0., 1., 0., 1.]])"
      ]
     },
     "metadata": {},
     "output_type": "display_data"
    }
   ],
   "source": [
    "a = torch.zeros(2,4)\n",
    "b = torch.ones(2,4)\n",
    "torch.stack((a,b), dim=2).view(2,8)"
   ]
  },
  {
   "cell_type": "code",
   "execution_count": null,
   "metadata": {},
   "outputs": [
    {
     "data": {
      "text/plain": [
       "tensor([[ 0, 12,  1, 13,  2, 14,  3, 15],\n",
       "        [ 4, 16,  5, 17,  6, 18,  7, 19],\n",
       "        [ 8, 20,  9, 21, 10, 22, 11, 23]])"
      ]
     },
     "metadata": {},
     "output_type": "display_data"
    }
   ],
   "source": [
    "a = torch.arange(12).reshape(3,4)\n",
    "b = torch.arange(12,24).reshape(3,4)\n",
    "torch.stack((a,b), dim=2).view(3,8)"
   ]
  },
  {
   "cell_type": "code",
   "execution_count": null,
   "metadata": {},
   "outputs": [],
   "source": [
    "def batch_rectilinear_with_gap_transform(data: torch.Tensor):\n",
    "    '''\n",
    "    Transform data to rectilinear format\n",
    "    Data is of shape (batch_size, seq_len, 3) where the last dimension is (gap, duration, note) format\n",
    "    '''\n",
    "    assert data.ndim == 3, 'data must be of shape (batch_size, seq_len, 3)'\n",
    "    assert data.shape[2] == 3, 'data must be of shape (batch_size, seq_len, 3)'\n",
    "    batch_size = data.shape[0]\n",
    "    seq_len = data.shape[1]\n",
    "    gap_cumsum = data[:,:,0].cumsum(dim=1) # shape (batch_size, seq_len)\n",
    "    dur_cumsum = data[:,:,1].cumsum(dim=1) # shape (batch_size, seq_len)\n",
    "    starts = torch.zeros_like(dur_cumsum) # shape (batch_size, seq_len)\n",
    "    starts[:,1:] += dur_cumsum[:,:-1]\n",
    "    starts += gap_cumsum\n",
    "    ends = dur_cumsum + gap_cumsum\n",
    "    t = torch.stack([starts, ends], dim=2).view(batch_size, seq_len*2).unsqueeze(-1) # shape (batch_size, seq_len*2, 1)\n",
    "    pitch = data[:,:,-1:].cumsum(dim=1) # shape (batch_size, seq_len, 1\n",
    "    tensor = torch.cat([t, torch.repeat_interleave(pitch, 2, dim=1)], dim=-1)\n",
    "    return tensor"
   ]
  },
  {
   "cell_type": "code",
   "execution_count": null,
   "metadata": {},
   "outputs": [
    {
     "data": {
      "text/html": [
       "<div>\n",
       "<style scoped>\n",
       "    .dataframe tbody tr th:only-of-type {\n",
       "        vertical-align: middle;\n",
       "    }\n",
       "\n",
       "    .dataframe tbody tr th {\n",
       "        vertical-align: top;\n",
       "    }\n",
       "\n",
       "    .dataframe thead th {\n",
       "        text-align: right;\n",
       "    }\n",
       "</style>\n",
       "<table border=\"1\" class=\"dataframe\">\n",
       "  <thead>\n",
       "    <tr style=\"text-align: right;\">\n",
       "      <th></th>\n",
       "      <th>Start</th>\n",
       "      <th>End</th>\n",
       "      <th>Pitch</th>\n",
       "      <th>Velocity</th>\n",
       "      <th>Instrument</th>\n",
       "    </tr>\n",
       "  </thead>\n",
       "  <tbody>\n",
       "    <tr>\n",
       "      <th>0</th>\n",
       "      <td>0.000000</td>\n",
       "      <td>0.483871</td>\n",
       "      <td>0</td>\n",
       "      <td>80</td>\n",
       "      <td>melody</td>\n",
       "    </tr>\n",
       "    <tr>\n",
       "      <th>1</th>\n",
       "      <td>0.483871</td>\n",
       "      <td>0.967742</td>\n",
       "      <td>4</td>\n",
       "      <td>80</td>\n",
       "      <td>melody</td>\n",
       "    </tr>\n",
       "    <tr>\n",
       "      <th>2</th>\n",
       "      <td>0.967742</td>\n",
       "      <td>1.330645</td>\n",
       "      <td>4</td>\n",
       "      <td>80</td>\n",
       "      <td>melody</td>\n",
       "    </tr>\n",
       "    <tr>\n",
       "      <th>3</th>\n",
       "      <td>1.330645</td>\n",
       "      <td>1.693549</td>\n",
       "      <td>5</td>\n",
       "      <td>80</td>\n",
       "      <td>melody</td>\n",
       "    </tr>\n",
       "    <tr>\n",
       "      <th>4</th>\n",
       "      <td>1.693549</td>\n",
       "      <td>2.661291</td>\n",
       "      <td>7</td>\n",
       "      <td>80</td>\n",
       "      <td>melody</td>\n",
       "    </tr>\n",
       "    <tr>\n",
       "      <th>5</th>\n",
       "      <td>2.661291</td>\n",
       "      <td>2.903226</td>\n",
       "      <td>0</td>\n",
       "      <td>80</td>\n",
       "      <td>melody</td>\n",
       "    </tr>\n",
       "    <tr>\n",
       "      <th>6</th>\n",
       "      <td>2.903226</td>\n",
       "      <td>3.266129</td>\n",
       "      <td>9</td>\n",
       "      <td>80</td>\n",
       "      <td>melody</td>\n",
       "    </tr>\n",
       "    <tr>\n",
       "      <th>7</th>\n",
       "      <td>3.266129</td>\n",
       "      <td>3.629033</td>\n",
       "      <td>7</td>\n",
       "      <td>80</td>\n",
       "      <td>melody</td>\n",
       "    </tr>\n",
       "    <tr>\n",
       "      <th>8</th>\n",
       "      <td>3.629033</td>\n",
       "      <td>4.112903</td>\n",
       "      <td>5</td>\n",
       "      <td>80</td>\n",
       "      <td>melody</td>\n",
       "    </tr>\n",
       "    <tr>\n",
       "      <th>9</th>\n",
       "      <td>4.112903</td>\n",
       "      <td>5.806452</td>\n",
       "      <td>4</td>\n",
       "      <td>80</td>\n",
       "      <td>melody</td>\n",
       "    </tr>\n",
       "    <tr>\n",
       "      <th>10</th>\n",
       "      <td>5.806452</td>\n",
       "      <td>6.290323</td>\n",
       "      <td>7</td>\n",
       "      <td>80</td>\n",
       "      <td>melody</td>\n",
       "    </tr>\n",
       "    <tr>\n",
       "      <th>11</th>\n",
       "      <td>6.290323</td>\n",
       "      <td>6.774194</td>\n",
       "      <td>4</td>\n",
       "      <td>80</td>\n",
       "      <td>melody</td>\n",
       "    </tr>\n",
       "    <tr>\n",
       "      <th>12</th>\n",
       "      <td>6.774194</td>\n",
       "      <td>7.016129</td>\n",
       "      <td>2</td>\n",
       "      <td>80</td>\n",
       "      <td>melody</td>\n",
       "    </tr>\n",
       "    <tr>\n",
       "      <th>13</th>\n",
       "      <td>7.016129</td>\n",
       "      <td>7.137097</td>\n",
       "      <td>2</td>\n",
       "      <td>80</td>\n",
       "      <td>melody</td>\n",
       "    </tr>\n",
       "    <tr>\n",
       "      <th>14</th>\n",
       "      <td>7.137097</td>\n",
       "      <td>7.500001</td>\n",
       "      <td>2</td>\n",
       "      <td>80</td>\n",
       "      <td>melody</td>\n",
       "    </tr>\n",
       "    <tr>\n",
       "      <th>15</th>\n",
       "      <td>7.500001</td>\n",
       "      <td>7.983872</td>\n",
       "      <td>4</td>\n",
       "      <td>80</td>\n",
       "      <td>melody</td>\n",
       "    </tr>\n",
       "    <tr>\n",
       "      <th>16</th>\n",
       "      <td>7.983872</td>\n",
       "      <td>8.709678</td>\n",
       "      <td>2</td>\n",
       "      <td>80</td>\n",
       "      <td>melody</td>\n",
       "    </tr>\n",
       "    <tr>\n",
       "      <th>17</th>\n",
       "      <td>8.709678</td>\n",
       "      <td>9.677420</td>\n",
       "      <td>0</td>\n",
       "      <td>80</td>\n",
       "      <td>melody</td>\n",
       "    </tr>\n",
       "    <tr>\n",
       "      <th>18</th>\n",
       "      <td>9.677420</td>\n",
       "      <td>10.645162</td>\n",
       "      <td>7</td>\n",
       "      <td>80</td>\n",
       "      <td>melody</td>\n",
       "    </tr>\n",
       "    <tr>\n",
       "      <th>19</th>\n",
       "      <td>10.645162</td>\n",
       "      <td>11.129033</td>\n",
       "      <td>4</td>\n",
       "      <td>80</td>\n",
       "      <td>melody</td>\n",
       "    </tr>\n",
       "    <tr>\n",
       "      <th>20</th>\n",
       "      <td>11.129033</td>\n",
       "      <td>11.612904</td>\n",
       "      <td>2</td>\n",
       "      <td>80</td>\n",
       "      <td>melody</td>\n",
       "    </tr>\n",
       "    <tr>\n",
       "      <th>21</th>\n",
       "      <td>11.612904</td>\n",
       "      <td>11.975807</td>\n",
       "      <td>2</td>\n",
       "      <td>80</td>\n",
       "      <td>melody</td>\n",
       "    </tr>\n",
       "    <tr>\n",
       "      <th>22</th>\n",
       "      <td>11.975807</td>\n",
       "      <td>12.338711</td>\n",
       "      <td>4</td>\n",
       "      <td>80</td>\n",
       "      <td>melody</td>\n",
       "    </tr>\n",
       "    <tr>\n",
       "      <th>23</th>\n",
       "      <td>12.580646</td>\n",
       "      <td>13.306453</td>\n",
       "      <td>7</td>\n",
       "      <td>80</td>\n",
       "      <td>melody</td>\n",
       "    </tr>\n",
       "    <tr>\n",
       "      <th>24</th>\n",
       "      <td>13.306453</td>\n",
       "      <td>13.548388</td>\n",
       "      <td>4</td>\n",
       "      <td>80</td>\n",
       "      <td>melody</td>\n",
       "    </tr>\n",
       "    <tr>\n",
       "      <th>25</th>\n",
       "      <td>13.548388</td>\n",
       "      <td>13.790324</td>\n",
       "      <td>4</td>\n",
       "      <td>80</td>\n",
       "      <td>melody</td>\n",
       "    </tr>\n",
       "    <tr>\n",
       "      <th>26</th>\n",
       "      <td>13.790324</td>\n",
       "      <td>13.911291</td>\n",
       "      <td>2</td>\n",
       "      <td>80</td>\n",
       "      <td>melody</td>\n",
       "    </tr>\n",
       "    <tr>\n",
       "      <th>27</th>\n",
       "      <td>13.911291</td>\n",
       "      <td>14.032259</td>\n",
       "      <td>2</td>\n",
       "      <td>80</td>\n",
       "      <td>melody</td>\n",
       "    </tr>\n",
       "    <tr>\n",
       "      <th>28</th>\n",
       "      <td>14.032259</td>\n",
       "      <td>14.516130</td>\n",
       "      <td>2</td>\n",
       "      <td>80</td>\n",
       "      <td>melody</td>\n",
       "    </tr>\n",
       "    <tr>\n",
       "      <th>29</th>\n",
       "      <td>14.516130</td>\n",
       "      <td>14.879033</td>\n",
       "      <td>5</td>\n",
       "      <td>80</td>\n",
       "      <td>melody</td>\n",
       "    </tr>\n",
       "  </tbody>\n",
       "</table>\n",
       "</div>"
      ],
      "text/plain": [
       "        Start        End  Pitch  Velocity Instrument\n",
       "0    0.000000   0.483871      0        80     melody\n",
       "1    0.483871   0.967742      4        80     melody\n",
       "2    0.967742   1.330645      4        80     melody\n",
       "3    1.330645   1.693549      5        80     melody\n",
       "4    1.693549   2.661291      7        80     melody\n",
       "5    2.661291   2.903226      0        80     melody\n",
       "6    2.903226   3.266129      9        80     melody\n",
       "7    3.266129   3.629033      7        80     melody\n",
       "8    3.629033   4.112903      5        80     melody\n",
       "9    4.112903   5.806452      4        80     melody\n",
       "10   5.806452   6.290323      7        80     melody\n",
       "11   6.290323   6.774194      4        80     melody\n",
       "12   6.774194   7.016129      2        80     melody\n",
       "13   7.016129   7.137097      2        80     melody\n",
       "14   7.137097   7.500001      2        80     melody\n",
       "15   7.500001   7.983872      4        80     melody\n",
       "16   7.983872   8.709678      2        80     melody\n",
       "17   8.709678   9.677420      0        80     melody\n",
       "18   9.677420  10.645162      7        80     melody\n",
       "19  10.645162  11.129033      4        80     melody\n",
       "20  11.129033  11.612904      2        80     melody\n",
       "21  11.612904  11.975807      2        80     melody\n",
       "22  11.975807  12.338711      4        80     melody\n",
       "23  12.580646  13.306453      7        80     melody\n",
       "24  13.306453  13.548388      4        80     melody\n",
       "25  13.548388  13.790324      4        80     melody\n",
       "26  13.790324  13.911291      2        80     melody\n",
       "27  13.911291  14.032259      2        80     melody\n",
       "28  14.032259  14.516130      2        80     melody\n",
       "29  14.516130  14.879033      5        80     melody"
      ]
     },
     "metadata": {},
     "output_type": "display_data"
    }
   ],
   "source": [
    "temp_df = dfs[0].copy()\n",
    "temp_df['Pitch'] -= 60\n",
    "temp_df[:30]"
   ]
  },
  {
   "cell_type": "code",
   "execution_count": null,
   "metadata": {},
   "outputs": [
    {
     "data": {
      "text/plain": [
       "tensor([[ 0.0000,  0.0000],\n",
       "        [ 0.4839,  0.0000],\n",
       "        [ 0.4839,  4.0000],\n",
       "        [ 0.9677,  4.0000],\n",
       "        [ 0.9677,  4.0000],\n",
       "        [ 1.3306,  4.0000],\n",
       "        [ 1.3306,  5.0000],\n",
       "        [ 1.6935,  5.0000],\n",
       "        [ 1.6935,  7.0000],\n",
       "        [ 2.6613,  7.0000],\n",
       "        [ 2.6613,  0.0000],\n",
       "        [ 2.9032,  0.0000],\n",
       "        [ 2.9032,  9.0000],\n",
       "        [ 3.2661,  9.0000],\n",
       "        [ 3.2661,  7.0000],\n",
       "        [ 3.6290,  7.0000],\n",
       "        [ 3.6290,  5.0000],\n",
       "        [ 4.1129,  5.0000],\n",
       "        [ 4.1129,  4.0000],\n",
       "        [ 5.8065,  4.0000],\n",
       "        [ 5.8065,  7.0000],\n",
       "        [ 6.2903,  7.0000],\n",
       "        [ 6.2903,  4.0000],\n",
       "        [ 6.7742,  4.0000],\n",
       "        [ 6.7742,  2.0000],\n",
       "        [ 7.0161,  2.0000],\n",
       "        [ 7.0161,  2.0000],\n",
       "        [ 7.1371,  2.0000],\n",
       "        [ 7.1371,  2.0000],\n",
       "        [ 7.5000,  2.0000],\n",
       "        [ 7.5000,  4.0000],\n",
       "        [ 7.9839,  4.0000],\n",
       "        [ 7.9839,  2.0000],\n",
       "        [ 8.7097,  2.0000],\n",
       "        [ 8.7097,  0.0000],\n",
       "        [ 9.6774,  0.0000],\n",
       "        [ 9.6774,  7.0000],\n",
       "        [10.6452,  7.0000],\n",
       "        [10.6452,  4.0000],\n",
       "        [11.1290,  4.0000],\n",
       "        [11.1290,  2.0000],\n",
       "        [11.6129,  2.0000],\n",
       "        [11.6129,  2.0000],\n",
       "        [11.9758,  2.0000],\n",
       "        [11.9758,  4.0000],\n",
       "        [12.3387,  4.0000],\n",
       "        [12.5806,  7.0000],\n",
       "        [13.3065,  7.0000],\n",
       "        [13.3065,  4.0000],\n",
       "        [13.5484,  4.0000],\n",
       "        [13.5484,  4.0000],\n",
       "        [13.7903,  4.0000],\n",
       "        [13.7903,  2.0000],\n",
       "        [13.9113,  2.0000],\n",
       "        [13.9113,  2.0000],\n",
       "        [14.0323,  2.0000],\n",
       "        [14.0323,  2.0000],\n",
       "        [14.5161,  2.0000],\n",
       "        [14.5161,  5.0000],\n",
       "        [14.8790,  5.0000]])"
      ]
     },
     "metadata": {},
     "output_type": "display_data"
    }
   ],
   "source": [
    "transformed = batch_rectilinear_with_gap_transform(x)\n",
    "transformed[0]"
   ]
  },
  {
   "cell_type": "code",
   "execution_count": null,
   "metadata": {},
   "outputs": [
    {
     "data": {
      "text/plain": [
       "[<matplotlib.lines.Line2D at 0x7f855e15a750>]"
      ]
     },
     "metadata": {},
     "output_type": "display_data"
    },
    {
     "data": {
      "image/png": "[encoded data removed]",
      "text/plain": [
       "<Figure size 640x480 with 1 Axes>"
      ]
     },
     "metadata": {},
     "output_type": "display_data"
    }
   ],
   "source": [
    "plt.plot(transformed[0,:,0], transformed[0,:,1])"
   ]
  }
 ],
 "metadata": {
  "language_info": {
   "name": "python"
  }
 },
 "nbformat": 4,
 "nbformat_minor": 2
}
