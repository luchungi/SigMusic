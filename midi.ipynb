{
 "cells": [
  {
   "cell_type": "code",
   "execution_count": null,
   "metadata": {},
   "outputs": [],
   "source": [
    "import os\n",
    "import shutil\n",
    "\n",
    "import numpy as np\n",
    "import pandas as pd\n",
    "from matplotlib import pyplot as plt\n",
    "import pretty_midi\n",
    "import IPython.display as ipd\n",
    "import libfmp.c1\n",
    "\n",
    "from utils.data import *"
   ]
  },
  {
   "cell_type": "code",
   "execution_count": null,
   "metadata": {},
   "outputs": [],
   "source": [
    "midi_note_df = pd.read_csv('./data/midi_to_notes.csv', index_col=0)\n",
    "midi_note_df"
   ]
  },
  {
   "cell_type": "code",
   "execution_count": null,
   "metadata": {},
   "outputs": [],
   "source": [
    "path = './data/theorytab/MIDI/t/the-weeknd/cant-feel-my-face/pre-chorus-and-chorus_symbol_key.mid'\n",
    "midi_data = pretty_midi.PrettyMIDI(path)\n",
    "df = midi_to_df(midi_data)"
   ]
  },
  {
   "cell_type": "code",
   "execution_count": null,
   "metadata": {},
   "outputs": [],
   "source": [
    "for key in midi_data.key_signature_changes:\n",
    "    print(key.key_number, key.time)"
   ]
  },
  {
   "cell_type": "code",
   "execution_count": null,
   "metadata": {},
   "outputs": [],
   "source": [
    "df"
   ]
  },
  {
   "cell_type": "code",
   "execution_count": null,
   "metadata": {},
   "outputs": [],
   "source": [
    "print(f'Key of song: {pretty_midi.key_number_to_key_name(midi_data.key_signature_changes[0].key_number)}')\n",
    "print(f'Time signature: {midi_data.time_signature_changes[0].numerator}/{midi_data.time_signature_changes[0].denominator}')\n",
    "print(f'Event time in seconds of each beat: \\n {midi_data.get_beats()}')\n",
    "print(f'Beat start in seconds: {midi_data.estimate_beat_start()}')\n",
    "print(f'Beat start / beat duration: {midi_data.estimate_beat_start() / midi_data.get_beats()[1]}')\n",
    "print(f'Beats per minute based on pretty_midi.estimate_tempo: {midi_data.estimate_tempo()}')\n",
    "print(f'Beats per minute based on 60s/beat duration: {60 / midi_data.get_beats()[1]}')"
   ]
  },
  {
   "cell_type": "code",
   "execution_count": null,
   "metadata": {},
   "outputs": [],
   "source": [
    "df.loc[:, ['Start', 'End']] /= midi_data.get_beats()[1]\n",
    "df.loc[:, ['Start', 'End']] *= 0.5\n",
    "df"
   ]
  },
  {
   "cell_type": "code",
   "execution_count": null,
   "metadata": {},
   "outputs": [],
   "source": [
    "fs = 44100\n",
    "audio_data = df_to_midi(df).fluidsynth(fs=fs, sf2_path='./data/soundfonts/Steinway_Grand_Piano_1.2.sf2')\n",
    "ipd.Audio(audio_data, rate=fs)"
   ]
  },
  {
   "cell_type": "code",
   "execution_count": null,
   "metadata": {},
   "outputs": [],
   "source": [
    "df = add_octave_and_note(df, midi_note_df)"
   ]
  },
  {
   "cell_type": "code",
   "execution_count": null,
   "metadata": {},
   "outputs": [],
   "source": [
    "midi_data2 = df_to_midi(df)"
   ]
  },
  {
   "cell_type": "code",
   "execution_count": null,
   "metadata": {},
   "outputs": [],
   "source": [
    "midi_data2.instruments"
   ]
  },
  {
   "cell_type": "code",
   "execution_count": null,
   "metadata": {},
   "outputs": [],
   "source": [
    "df2 = midi_to_df(midi_data2)\n",
    "df2"
   ]
  },
  {
   "cell_type": "markdown",
   "metadata": {},
   "source": [
    "# Play audio"
   ]
  },
  {
   "cell_type": "code",
   "execution_count": null,
   "metadata": {},
   "outputs": [],
   "source": [
    "fs = 44100\n",
    "audio_data = midi_data.fluidsynth(fs=fs, sf2_path='./data/soundfonts/Steinway_Grand_Piano_1.2.sf2')\n",
    "ipd.Audio(audio_data, rate=fs)"
   ]
  },
  {
   "cell_type": "code",
   "execution_count": null,
   "metadata": {},
   "outputs": [],
   "source": [
    "fs = 22050\n",
    "audio_data = midi_data.fluidsynth(fs=fs, sf2_path='./data/soundfonts/Steinway_Grand_Piano_1.2.sf2')\n",
    "ipd.Audio(audio_data, rate=fs)"
   ]
  },
  {
   "cell_type": "code",
   "execution_count": null,
   "metadata": {},
   "outputs": [],
   "source": [
    "score = midi_to_list(midi_data)\n",
    "libfmp.c1.visualize_piano_roll(score, figsize=(16, 9), velocity_alpha=True);"
   ]
  },
  {
   "cell_type": "markdown",
   "metadata": {},
   "source": [
    "# Check keys of different midi files"
   ]
  },
  {
   "cell_type": "code",
   "execution_count": null,
   "metadata": {},
   "outputs": [],
   "source": [
    "key_counts = np.zeros(24, dtype=int)\n",
    "get_key_and_sort_files_to_dir('./data/theorytab/MIDI/', key_counts)\n",
    "fig = plt.figure(figsize=(12, 6))\n",
    "plt.bar(x=[get_key_note(i, tight=True) for i in range(24)], height=key_counts)\n",
    "plt.tight_layout()"
   ]
  },
  {
   "cell_type": "markdown",
   "metadata": {},
   "source": [
    "# Change all single key songs to key of C Major"
   ]
  },
  {
   "cell_type": "code",
   "execution_count": null,
   "metadata": {},
   "outputs": [],
   "source": [
    "remove_empty('./data/single_key/')"
   ]
  },
  {
   "cell_type": "code",
   "execution_count": null,
   "metadata": {},
   "outputs": [],
   "source": [
    "def change_key(directory: str, n_midi_files: int=0):\n",
    "    if n_midi_files > 0: # multiple midi files for same song\n",
    "        pitches = []\n",
    "        notes = []\n",
    "        for entry in os.scandir(directory):\n",
    "            if entry.is_file() and entry.name.endswith('.mid'):\n",
    "                midi_data = pretty_midi.PrettyMIDI(entry.path)\n",
    "                # key_signature = midi_data.key_signature_changes\n",
    "                df = midi_to_df(midi_data)\n",
    "                unique_pitches = np.unique(df['Pitch'].values)\n",
    "                pitches += list(unique_pitches)\n",
    "                notes += [pretty_midi.note_number_to_name(p) for p in unique_pitches]\n",
    "        pitches = set(pitches)\n",
    "        notes = set(notes)\n",
    "        print(f'{directory}: {notes}')\n",
    "    else:\n",
    "        for entry in os.scandir(directory):\n",
    "            if entry.is_dir():\n",
    "                n_midi_files = len([name for name in os.listdir(entry.path) if name.endswith('.mid')])\n",
    "                change_key(entry.path, n_midi_files)"
   ]
  },
  {
   "cell_type": "code",
   "execution_count": null,
   "metadata": {},
   "outputs": [],
   "source": [
    "change_key('./data/single_key/4/')"
   ]
  },
  {
   "cell_type": "code",
   "execution_count": null,
   "metadata": {},
   "outputs": [],
   "source": [
    "path = './data/theorytab/MIDI/p/prince/purple-rain/verse_symbol_key.mid'\n",
    "midi_data = pretty_midi.PrettyMIDI(path)\n",
    "df = midi_to_df(midi_data)\n",
    "df"
   ]
  }
 ],
 "metadata": {
  "kernelspec": {
   "display_name": "music",
   "language": "python",
   "name": "python3"
  },
  "language_info": {
   "codemirror_mode": {
    "name": "ipython",
    "version": 3
   },
   "file_extension": ".py",
   "mimetype": "text/x-python",
   "name": "python",
   "nbconvert_exporter": "python",
   "pygments_lexer": "ipython3",
   "version": "3.11.7"
  }
 },
 "nbformat": 4,
 "nbformat_minor": 2
}
